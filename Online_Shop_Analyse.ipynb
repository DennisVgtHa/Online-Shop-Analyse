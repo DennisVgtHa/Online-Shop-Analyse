{
 "cells": [
  {
   "cell_type": "code",
   "execution_count": 3,
   "metadata": {},
   "outputs": [],
   "source": [
    "import pandas as pd\n",
    "import numpy\n",
    "import matplotlib.pyplot as plt\n",
    "import datetime\n",
    "from datetime import datetime"
   ]
  },
  {
   "cell_type": "code",
   "execution_count": 4,
   "metadata": {},
   "outputs": [],
   "source": [
    "df = pd.read_csv(r\"D:\\Data Analyst\\Online Shop Customer Sales Data.csv\")"
   ]
  },
  {
   "cell_type": "code",
   "execution_count": 5,
   "metadata": {},
   "outputs": [
    {
     "data": {
      "text/html": [
       "<div>\n",
       "<style scoped>\n",
       "    .dataframe tbody tr th:only-of-type {\n",
       "        vertical-align: middle;\n",
       "    }\n",
       "\n",
       "    .dataframe tbody tr th {\n",
       "        vertical-align: top;\n",
       "    }\n",
       "\n",
       "    .dataframe thead th {\n",
       "        text-align: right;\n",
       "    }\n",
       "</style>\n",
       "<table border=\"1\" class=\"dataframe\">\n",
       "  <thead>\n",
       "    <tr style=\"text-align: right;\">\n",
       "      <th></th>\n",
       "      <th>Customer_id</th>\n",
       "      <th>Age</th>\n",
       "      <th>Gender</th>\n",
       "      <th>Revenue_Total</th>\n",
       "      <th>N_Purchases</th>\n",
       "      <th>Purchase_DATE</th>\n",
       "      <th>Purchase_VALUE</th>\n",
       "      <th>Pay_Method</th>\n",
       "      <th>Time_Spent</th>\n",
       "      <th>Browser</th>\n",
       "      <th>Newsletter</th>\n",
       "      <th>Voucher</th>\n",
       "    </tr>\n",
       "  </thead>\n",
       "  <tbody>\n",
       "    <tr>\n",
       "      <th>0</th>\n",
       "      <td>504308</td>\n",
       "      <td>53</td>\n",
       "      <td>0</td>\n",
       "      <td>45.3</td>\n",
       "      <td>2</td>\n",
       "      <td>22.06.21</td>\n",
       "      <td>24.915</td>\n",
       "      <td>1</td>\n",
       "      <td>885</td>\n",
       "      <td>0</td>\n",
       "      <td>0</td>\n",
       "      <td>0</td>\n",
       "    </tr>\n",
       "    <tr>\n",
       "      <th>1</th>\n",
       "      <td>504309</td>\n",
       "      <td>18</td>\n",
       "      <td>1</td>\n",
       "      <td>36.2</td>\n",
       "      <td>3</td>\n",
       "      <td>10.12.21</td>\n",
       "      <td>2.896</td>\n",
       "      <td>2</td>\n",
       "      <td>656</td>\n",
       "      <td>0</td>\n",
       "      <td>0</td>\n",
       "      <td>1</td>\n",
       "    </tr>\n",
       "    <tr>\n",
       "      <th>2</th>\n",
       "      <td>504310</td>\n",
       "      <td>52</td>\n",
       "      <td>1</td>\n",
       "      <td>10.6</td>\n",
       "      <td>1</td>\n",
       "      <td>14.03.21</td>\n",
       "      <td>10.600</td>\n",
       "      <td>0</td>\n",
       "      <td>761</td>\n",
       "      <td>0</td>\n",
       "      <td>1</td>\n",
       "      <td>0</td>\n",
       "    </tr>\n",
       "    <tr>\n",
       "      <th>3</th>\n",
       "      <td>504311</td>\n",
       "      <td>29</td>\n",
       "      <td>0</td>\n",
       "      <td>54.1</td>\n",
       "      <td>5</td>\n",
       "      <td>25.10.21</td>\n",
       "      <td>43.280</td>\n",
       "      <td>1</td>\n",
       "      <td>906</td>\n",
       "      <td>0</td>\n",
       "      <td>1</td>\n",
       "      <td>0</td>\n",
       "    </tr>\n",
       "    <tr>\n",
       "      <th>4</th>\n",
       "      <td>504312</td>\n",
       "      <td>21</td>\n",
       "      <td>1</td>\n",
       "      <td>56.9</td>\n",
       "      <td>1</td>\n",
       "      <td>14.09.21</td>\n",
       "      <td>56.900</td>\n",
       "      <td>1</td>\n",
       "      <td>605</td>\n",
       "      <td>0</td>\n",
       "      <td>1</td>\n",
       "      <td>0</td>\n",
       "    </tr>\n",
       "  </tbody>\n",
       "</table>\n",
       "</div>"
      ],
      "text/plain": [
       "   Customer_id  Age  Gender  Revenue_Total  N_Purchases Purchase_DATE  \\\n",
       "0       504308   53       0           45.3            2      22.06.21   \n",
       "1       504309   18       1           36.2            3      10.12.21   \n",
       "2       504310   52       1           10.6            1      14.03.21   \n",
       "3       504311   29       0           54.1            5      25.10.21   \n",
       "4       504312   21       1           56.9            1      14.09.21   \n",
       "\n",
       "   Purchase_VALUE  Pay_Method  Time_Spent  Browser  Newsletter  Voucher  \n",
       "0          24.915           1         885        0           0        0  \n",
       "1           2.896           2         656        0           0        1  \n",
       "2          10.600           0         761        0           1        0  \n",
       "3          43.280           1         906        0           1        0  \n",
       "4          56.900           1         605        0           1        0  "
      ]
     },
     "execution_count": 5,
     "metadata": {},
     "output_type": "execute_result"
    }
   ],
   "source": [
    "df.head(5)"
   ]
  },
  {
   "cell_type": "code",
   "execution_count": 6,
   "metadata": {},
   "outputs": [
    {
     "data": {
      "text/html": [
       "<div>\n",
       "<style scoped>\n",
       "    .dataframe tbody tr th:only-of-type {\n",
       "        vertical-align: middle;\n",
       "    }\n",
       "\n",
       "    .dataframe tbody tr th {\n",
       "        vertical-align: top;\n",
       "    }\n",
       "\n",
       "    .dataframe thead th {\n",
       "        text-align: right;\n",
       "    }\n",
       "</style>\n",
       "<table border=\"1\" class=\"dataframe\">\n",
       "  <thead>\n",
       "    <tr style=\"text-align: right;\">\n",
       "      <th></th>\n",
       "      <th>count</th>\n",
       "      <th>mean</th>\n",
       "      <th>std</th>\n",
       "      <th>min</th>\n",
       "      <th>25%</th>\n",
       "      <th>50%</th>\n",
       "      <th>75%</th>\n",
       "      <th>max</th>\n",
       "    </tr>\n",
       "  </thead>\n",
       "  <tbody>\n",
       "    <tr>\n",
       "      <th>Customer_id</th>\n",
       "      <td>65796.0</td>\n",
       "      <td>537205.500000</td>\n",
       "      <td>18993.813493</td>\n",
       "      <td>504308.000</td>\n",
       "      <td>520756.75000</td>\n",
       "      <td>537205.50</td>\n",
       "      <td>553654.250</td>\n",
       "      <td>570103.0</td>\n",
       "    </tr>\n",
       "    <tr>\n",
       "      <th>Age</th>\n",
       "      <td>65796.0</td>\n",
       "      <td>39.592696</td>\n",
       "      <td>13.825466</td>\n",
       "      <td>16.000</td>\n",
       "      <td>28.00000</td>\n",
       "      <td>40.00</td>\n",
       "      <td>51.000</td>\n",
       "      <td>63.0</td>\n",
       "    </tr>\n",
       "    <tr>\n",
       "      <th>Gender</th>\n",
       "      <td>65796.0</td>\n",
       "      <td>0.671348</td>\n",
       "      <td>0.469727</td>\n",
       "      <td>0.000</td>\n",
       "      <td>0.00000</td>\n",
       "      <td>1.00</td>\n",
       "      <td>1.000</td>\n",
       "      <td>1.0</td>\n",
       "    </tr>\n",
       "    <tr>\n",
       "      <th>Revenue_Total</th>\n",
       "      <td>65796.0</td>\n",
       "      <td>27.732935</td>\n",
       "      <td>14.941878</td>\n",
       "      <td>0.500</td>\n",
       "      <td>15.30000</td>\n",
       "      <td>30.10</td>\n",
       "      <td>37.600</td>\n",
       "      <td>59.9</td>\n",
       "    </tr>\n",
       "    <tr>\n",
       "      <th>N_Purchases</th>\n",
       "      <td>65796.0</td>\n",
       "      <td>3.992477</td>\n",
       "      <td>2.004370</td>\n",
       "      <td>1.000</td>\n",
       "      <td>2.00000</td>\n",
       "      <td>4.00</td>\n",
       "      <td>6.000</td>\n",
       "      <td>7.0</td>\n",
       "    </tr>\n",
       "    <tr>\n",
       "      <th>Purchase_VALUE</th>\n",
       "      <td>65796.0</td>\n",
       "      <td>15.968699</td>\n",
       "      <td>13.229295</td>\n",
       "      <td>0.005</td>\n",
       "      <td>4.81975</td>\n",
       "      <td>12.64</td>\n",
       "      <td>24.752</td>\n",
       "      <td>59.9</td>\n",
       "    </tr>\n",
       "    <tr>\n",
       "      <th>Pay_Method</th>\n",
       "      <td>65796.0</td>\n",
       "      <td>1.308651</td>\n",
       "      <td>1.081959</td>\n",
       "      <td>0.000</td>\n",
       "      <td>0.00000</td>\n",
       "      <td>1.00</td>\n",
       "      <td>2.000</td>\n",
       "      <td>3.0</td>\n",
       "    </tr>\n",
       "    <tr>\n",
       "      <th>Time_Spent</th>\n",
       "      <td>65796.0</td>\n",
       "      <td>598.925603</td>\n",
       "      <td>277.833635</td>\n",
       "      <td>120.000</td>\n",
       "      <td>358.00000</td>\n",
       "      <td>598.00</td>\n",
       "      <td>840.000</td>\n",
       "      <td>1080.0</td>\n",
       "    </tr>\n",
       "    <tr>\n",
       "      <th>Browser</th>\n",
       "      <td>65796.0</td>\n",
       "      <td>0.630935</td>\n",
       "      <td>0.996407</td>\n",
       "      <td>0.000</td>\n",
       "      <td>0.00000</td>\n",
       "      <td>0.00</td>\n",
       "      <td>1.000</td>\n",
       "      <td>3.0</td>\n",
       "    </tr>\n",
       "    <tr>\n",
       "      <th>Newsletter</th>\n",
       "      <td>65796.0</td>\n",
       "      <td>0.151027</td>\n",
       "      <td>0.358078</td>\n",
       "      <td>0.000</td>\n",
       "      <td>0.00000</td>\n",
       "      <td>0.00</td>\n",
       "      <td>0.000</td>\n",
       "      <td>1.0</td>\n",
       "    </tr>\n",
       "    <tr>\n",
       "      <th>Voucher</th>\n",
       "      <td>65796.0</td>\n",
       "      <td>0.250258</td>\n",
       "      <td>0.433165</td>\n",
       "      <td>0.000</td>\n",
       "      <td>0.00000</td>\n",
       "      <td>0.00</td>\n",
       "      <td>1.000</td>\n",
       "      <td>1.0</td>\n",
       "    </tr>\n",
       "  </tbody>\n",
       "</table>\n",
       "</div>"
      ],
      "text/plain": [
       "                  count           mean           std         min  \\\n",
       "Customer_id     65796.0  537205.500000  18993.813493  504308.000   \n",
       "Age             65796.0      39.592696     13.825466      16.000   \n",
       "Gender          65796.0       0.671348      0.469727       0.000   \n",
       "Revenue_Total   65796.0      27.732935     14.941878       0.500   \n",
       "N_Purchases     65796.0       3.992477      2.004370       1.000   \n",
       "Purchase_VALUE  65796.0      15.968699     13.229295       0.005   \n",
       "Pay_Method      65796.0       1.308651      1.081959       0.000   \n",
       "Time_Spent      65796.0     598.925603    277.833635     120.000   \n",
       "Browser         65796.0       0.630935      0.996407       0.000   \n",
       "Newsletter      65796.0       0.151027      0.358078       0.000   \n",
       "Voucher         65796.0       0.250258      0.433165       0.000   \n",
       "\n",
       "                         25%        50%         75%       max  \n",
       "Customer_id     520756.75000  537205.50  553654.250  570103.0  \n",
       "Age                 28.00000      40.00      51.000      63.0  \n",
       "Gender               0.00000       1.00       1.000       1.0  \n",
       "Revenue_Total       15.30000      30.10      37.600      59.9  \n",
       "N_Purchases          2.00000       4.00       6.000       7.0  \n",
       "Purchase_VALUE       4.81975      12.64      24.752      59.9  \n",
       "Pay_Method           0.00000       1.00       2.000       3.0  \n",
       "Time_Spent         358.00000     598.00     840.000    1080.0  \n",
       "Browser              0.00000       0.00       1.000       3.0  \n",
       "Newsletter           0.00000       0.00       0.000       1.0  \n",
       "Voucher              0.00000       0.00       1.000       1.0  "
      ]
     },
     "execution_count": 6,
     "metadata": {},
     "output_type": "execute_result"
    }
   ],
   "source": [
    "df.describe().T"
   ]
  },
  {
   "cell_type": "code",
   "execution_count": 7,
   "metadata": {},
   "outputs": [
    {
     "name": "stdout",
     "output_type": "stream",
     "text": [
      "<class 'pandas.core.frame.DataFrame'>\n",
      "RangeIndex: 65796 entries, 0 to 65795\n",
      "Data columns (total 12 columns):\n",
      " #   Column          Non-Null Count  Dtype  \n",
      "---  ------          --------------  -----  \n",
      " 0   Customer_id     65796 non-null  int64  \n",
      " 1   Age             65796 non-null  int64  \n",
      " 2   Gender          65796 non-null  int64  \n",
      " 3   Revenue_Total   65796 non-null  float64\n",
      " 4   N_Purchases     65796 non-null  int64  \n",
      " 5   Purchase_DATE   65796 non-null  object \n",
      " 6   Purchase_VALUE  65796 non-null  float64\n",
      " 7   Pay_Method      65796 non-null  int64  \n",
      " 8   Time_Spent      65796 non-null  int64  \n",
      " 9   Browser         65796 non-null  int64  \n",
      " 10  Newsletter      65796 non-null  int64  \n",
      " 11  Voucher         65796 non-null  int64  \n",
      "dtypes: float64(2), int64(9), object(1)\n",
      "memory usage: 6.0+ MB\n"
     ]
    }
   ],
   "source": [
    "df.info()"
   ]
  },
  {
   "cell_type": "markdown",
   "metadata": {},
   "source": [
    "**Überblick der Daten**"
   ]
  },
  {
   "cell_type": "code",
   "execution_count": 8,
   "metadata": {},
   "outputs": [
    {
     "data": {
      "text/plain": [
       "N_Purchases\n",
       "1    9519\n",
       "2    9427\n",
       "3    9426\n",
       "7    9418\n",
       "5    9408\n",
       "6    9340\n",
       "4    9258\n",
       "Name: count, dtype: int64"
      ]
     },
     "execution_count": 8,
     "metadata": {},
     "output_type": "execute_result"
    }
   ],
   "source": [
    "df[\"N_Purchases\"].value_counts()"
   ]
  },
  {
   "cell_type": "code",
   "execution_count": 9,
   "metadata": {},
   "outputs": [
    {
     "data": {
      "text/plain": [
       "False    65796\n",
       "Name: count, dtype: int64"
      ]
     },
     "execution_count": 9,
     "metadata": {},
     "output_type": "execute_result"
    }
   ],
   "source": [
    "df.duplicated().value_counts()"
   ]
  },
  {
   "cell_type": "code",
   "execution_count": 10,
   "metadata": {},
   "outputs": [
    {
     "data": {
      "text/plain": [
       "Browser\n",
       "0    42076\n",
       "1    13135\n",
       "3     7208\n",
       "2     3377\n",
       "Name: count, dtype: int64"
      ]
     },
     "execution_count": 10,
     "metadata": {},
     "output_type": "execute_result"
    }
   ],
   "source": [
    "df[\"Browser\"].value_counts()"
   ]
  },
  {
   "cell_type": "code",
   "execution_count": 11,
   "metadata": {},
   "outputs": [
    {
     "data": {
      "text/plain": [
       "Newsletter\n",
       "0    55859\n",
       "1     9937\n",
       "Name: count, dtype: int64"
      ]
     },
     "execution_count": 11,
     "metadata": {},
     "output_type": "execute_result"
    }
   ],
   "source": [
    "df[\"Newsletter\"].value_counts() "
   ]
  },
  {
   "cell_type": "code",
   "execution_count": 12,
   "metadata": {},
   "outputs": [
    {
     "data": {
      "text/plain": [
       "Voucher\n",
       "0    49330\n",
       "1    16466\n",
       "Name: count, dtype: int64"
      ]
     },
     "execution_count": 12,
     "metadata": {},
     "output_type": "execute_result"
    }
   ],
   "source": [
    "df[\"Voucher\"].value_counts() # Gutscheine"
   ]
  },
  {
   "cell_type": "code",
   "execution_count": 13,
   "metadata": {},
   "outputs": [
    {
     "data": {
      "text/plain": [
       "Gender\n",
       "1    44172\n",
       "0    21624\n",
       "Name: count, dtype: int64"
      ]
     },
     "execution_count": 13,
     "metadata": {},
     "output_type": "execute_result"
    }
   ],
   "source": [
    "df[\"Gender\"].value_counts()"
   ]
  },
  {
   "cell_type": "code",
   "execution_count": 14,
   "metadata": {},
   "outputs": [
    {
     "data": {
      "text/plain": [
       "Pay_Method\n",
       "1    19754\n",
       "0    19075\n",
       "2    14551\n",
       "3    12416\n",
       "Name: count, dtype: int64"
      ]
     },
     "execution_count": 14,
     "metadata": {},
     "output_type": "execute_result"
    }
   ],
   "source": [
    "df[\"Pay_Method\"].value_counts()"
   ]
  },
  {
   "cell_type": "markdown",
   "metadata": {},
   "source": [
    "**Diagramme zur Veranschaulichung**"
   ]
  },
  {
   "cell_type": "code",
   "execution_count": 15,
   "metadata": {},
   "outputs": [
    {
     "data": {
      "image/png": "[encoded data removed]",
      "text/plain": [
       "<Figure size 640x480 with 1 Axes>"
      ]
     },
     "metadata": {},
     "output_type": "display_data"
    }
   ],
   "source": [
    "plt.hist(df['Age'].dropna(), bins=20, edgecolor='black')\n",
    "plt.title('Altersverteilung der Kunden')\n",
    "plt.xlabel('Alter')\n",
    "plt.ylabel('Anzahl der Kunden')\n",
    "plt.show()"
   ]
  },
  {
   "cell_type": "code",
   "execution_count": 16,
   "metadata": {},
   "outputs": [
    {
     "data": {
      "image/png": "[encoded data removed]",
      "text/plain": [
       "<Figure size 800x400 with 1 Axes>"
      ]
     },
     "metadata": {},
     "output_type": "display_data"
    },
    {
     "data": {
      "image/png": "[encoded data removed]",
      "text/plain": [
       "<Figure size 800x400 with 1 Axes>"
      ]
     },
     "metadata": {},
     "output_type": "display_data"
    },
    {
     "data": {
      "image/png": "[encoded data removed]",
      "text/plain": [
       "<Figure size 800x400 with 1 Axes>"
      ]
     },
     "metadata": {},
     "output_type": "display_data"
    },
    {
     "data": {
      "image/png": "[encoded data removed]",
      "text/plain": [
       "<Figure size 800x400 with 1 Axes>"
      ]
     },
     "metadata": {},
     "output_type": "display_data"
    },
    {
     "data": {
      "image/png": "[encoded data removed]",
      "text/plain": [
       "<Figure size 800x400 with 1 Axes>"
      ]
     },
     "metadata": {},
     "output_type": "display_data"
    }
   ],
   "source": [
    "for column in ['Gender' , 'Newsletter', 'Browser' , 'Voucher' , 'Pay_Method']:\n",
    "    plt.figure(figsize=(8, 4))\n",
    " \n",
    "    shop_count = df[column].value_counts().sort_index()\n",
    "\n",
    "    plt.bar(shop_count.index, shop_count.values, width=0.4, align='center', color='green', alpha=0.6, label='Alle Daten')\n",
    "    plt.title(f'Verteilung von {column.capitalize()}')\n",
    "    plt.legend()\n",
    "    plt.show()"
   ]
  },
  {
   "cell_type": "code",
   "execution_count": 17,
   "metadata": {},
   "outputs": [
    {
     "data": {
      "image/png": "[encoded data removed]",
      "text/plain": [
       "<Figure size 640x480 with 1 Axes>"
      ]
     },
     "metadata": {},
     "output_type": "display_data"
    }
   ],
   "source": [
    "pay_method = df['Pay_Method'].value_counts()\n",
    "plt.pie(pay_method, labels=[\"1\",\"0\",\"2\",\"3\"] ,autopct='%1.1f%%', startangle=90)\n",
    "plt.title('Pay Method Pizza')\n",
    "plt.show()"
   ]
  },
  {
   "cell_type": "code",
   "execution_count": 18,
   "metadata": {},
   "outputs": [
    {
     "data": {
      "text/html": [
       "<div>\n",
       "<style scoped>\n",
       "    .dataframe tbody tr th:only-of-type {\n",
       "        vertical-align: middle;\n",
       "    }\n",
       "\n",
       "    .dataframe tbody tr th {\n",
       "        vertical-align: top;\n",
       "    }\n",
       "\n",
       "    .dataframe thead th {\n",
       "        text-align: right;\n",
       "    }\n",
       "</style>\n",
       "<table border=\"1\" class=\"dataframe\">\n",
       "  <thead>\n",
       "    <tr style=\"text-align: right;\">\n",
       "      <th></th>\n",
       "      <th>Customer_id</th>\n",
       "      <th>Age</th>\n",
       "      <th>Gender</th>\n",
       "      <th>Revenue_Total</th>\n",
       "      <th>N_Purchases</th>\n",
       "      <th>Purchase_DATE</th>\n",
       "      <th>Purchase_VALUE</th>\n",
       "      <th>Pay_Method</th>\n",
       "      <th>Time_Spent</th>\n",
       "      <th>Browser</th>\n",
       "      <th>Newsletter</th>\n",
       "      <th>Voucher</th>\n",
       "    </tr>\n",
       "  </thead>\n",
       "  <tbody>\n",
       "    <tr>\n",
       "      <th>0</th>\n",
       "      <td>504308</td>\n",
       "      <td>53</td>\n",
       "      <td>0</td>\n",
       "      <td>45.3</td>\n",
       "      <td>2</td>\n",
       "      <td>22.06.21</td>\n",
       "      <td>24.915</td>\n",
       "      <td>1</td>\n",
       "      <td>885</td>\n",
       "      <td>0</td>\n",
       "      <td>0</td>\n",
       "      <td>0</td>\n",
       "    </tr>\n",
       "    <tr>\n",
       "      <th>1</th>\n",
       "      <td>504309</td>\n",
       "      <td>18</td>\n",
       "      <td>1</td>\n",
       "      <td>36.2</td>\n",
       "      <td>3</td>\n",
       "      <td>10.12.21</td>\n",
       "      <td>2.896</td>\n",
       "      <td>2</td>\n",
       "      <td>656</td>\n",
       "      <td>0</td>\n",
       "      <td>0</td>\n",
       "      <td>1</td>\n",
       "    </tr>\n",
       "    <tr>\n",
       "      <th>2</th>\n",
       "      <td>504310</td>\n",
       "      <td>52</td>\n",
       "      <td>1</td>\n",
       "      <td>10.6</td>\n",
       "      <td>1</td>\n",
       "      <td>14.03.21</td>\n",
       "      <td>10.600</td>\n",
       "      <td>0</td>\n",
       "      <td>761</td>\n",
       "      <td>0</td>\n",
       "      <td>1</td>\n",
       "      <td>0</td>\n",
       "    </tr>\n",
       "    <tr>\n",
       "      <th>3</th>\n",
       "      <td>504311</td>\n",
       "      <td>29</td>\n",
       "      <td>0</td>\n",
       "      <td>54.1</td>\n",
       "      <td>5</td>\n",
       "      <td>25.10.21</td>\n",
       "      <td>43.280</td>\n",
       "      <td>1</td>\n",
       "      <td>906</td>\n",
       "      <td>0</td>\n",
       "      <td>1</td>\n",
       "      <td>0</td>\n",
       "    </tr>\n",
       "    <tr>\n",
       "      <th>4</th>\n",
       "      <td>504312</td>\n",
       "      <td>21</td>\n",
       "      <td>1</td>\n",
       "      <td>56.9</td>\n",
       "      <td>1</td>\n",
       "      <td>14.09.21</td>\n",
       "      <td>56.900</td>\n",
       "      <td>1</td>\n",
       "      <td>605</td>\n",
       "      <td>0</td>\n",
       "      <td>1</td>\n",
       "      <td>0</td>\n",
       "    </tr>\n",
       "  </tbody>\n",
       "</table>\n",
       "</div>"
      ],
      "text/plain": [
       "   Customer_id  Age  Gender  Revenue_Total  N_Purchases Purchase_DATE  \\\n",
       "0       504308   53       0           45.3            2      22.06.21   \n",
       "1       504309   18       1           36.2            3      10.12.21   \n",
       "2       504310   52       1           10.6            1      14.03.21   \n",
       "3       504311   29       0           54.1            5      25.10.21   \n",
       "4       504312   21       1           56.9            1      14.09.21   \n",
       "\n",
       "   Purchase_VALUE  Pay_Method  Time_Spent  Browser  Newsletter  Voucher  \n",
       "0          24.915           1         885        0           0        0  \n",
       "1           2.896           2         656        0           0        1  \n",
       "2          10.600           0         761        0           1        0  \n",
       "3          43.280           1         906        0           1        0  \n",
       "4          56.900           1         605        0           1        0  "
      ]
     },
     "execution_count": 18,
     "metadata": {},
     "output_type": "execute_result"
    }
   ],
   "source": [
    "df.head(5)"
   ]
  },
  {
   "cell_type": "code",
   "execution_count": 19,
   "metadata": {},
   "outputs": [
    {
     "data": {
      "image/png": "[encoded data removed]",
      "text/plain": [
       "<Figure size 640x480 with 1 Axes>"
      ]
     },
     "metadata": {},
     "output_type": "display_data"
    }
   ],
   "source": [
    "revenue_by_gender = df.groupby('Gender')['Revenue_Total'].sum()\n",
    "\n",
    "revenue_by_gender.plot(kind='bar')\n",
    "plt.title('Umsatz pro Geschlecht')\n",
    "plt.xlabel('Geschlecht')\n",
    "plt.ylabel('Umsatz')\n",
    "plt.show()"
   ]
  },
  {
   "cell_type": "code",
   "execution_count": 20,
   "metadata": {},
   "outputs": [],
   "source": [
    "df['Purchase_DATE'] = pd.to_datetime(df['Purchase_DATE'], format='%d.%m.%y') # Datum zu DateTime Objekt"
   ]
  },
  {
   "cell_type": "code",
   "execution_count": 21,
   "metadata": {},
   "outputs": [
    {
     "data": {
      "text/html": [
       "<div>\n",
       "<style scoped>\n",
       "    .dataframe tbody tr th:only-of-type {\n",
       "        vertical-align: middle;\n",
       "    }\n",
       "\n",
       "    .dataframe tbody tr th {\n",
       "        vertical-align: top;\n",
       "    }\n",
       "\n",
       "    .dataframe thead th {\n",
       "        text-align: right;\n",
       "    }\n",
       "</style>\n",
       "<table border=\"1\" class=\"dataframe\">\n",
       "  <thead>\n",
       "    <tr style=\"text-align: right;\">\n",
       "      <th></th>\n",
       "      <th>Customer_id</th>\n",
       "      <th>Age</th>\n",
       "      <th>Gender</th>\n",
       "      <th>Revenue_Total</th>\n",
       "      <th>N_Purchases</th>\n",
       "      <th>Purchase_DATE</th>\n",
       "      <th>Purchase_VALUE</th>\n",
       "      <th>Pay_Method</th>\n",
       "      <th>Time_Spent</th>\n",
       "      <th>Browser</th>\n",
       "      <th>Newsletter</th>\n",
       "      <th>Voucher</th>\n",
       "      <th>day_of_week</th>\n",
       "    </tr>\n",
       "  </thead>\n",
       "  <tbody>\n",
       "    <tr>\n",
       "      <th>0</th>\n",
       "      <td>504308</td>\n",
       "      <td>53</td>\n",
       "      <td>0</td>\n",
       "      <td>45.3</td>\n",
       "      <td>2</td>\n",
       "      <td>2021-06-22</td>\n",
       "      <td>24.915</td>\n",
       "      <td>1</td>\n",
       "      <td>885</td>\n",
       "      <td>0</td>\n",
       "      <td>0</td>\n",
       "      <td>0</td>\n",
       "      <td>Tuesday</td>\n",
       "    </tr>\n",
       "    <tr>\n",
       "      <th>1</th>\n",
       "      <td>504309</td>\n",
       "      <td>18</td>\n",
       "      <td>1</td>\n",
       "      <td>36.2</td>\n",
       "      <td>3</td>\n",
       "      <td>2021-12-10</td>\n",
       "      <td>2.896</td>\n",
       "      <td>2</td>\n",
       "      <td>656</td>\n",
       "      <td>0</td>\n",
       "      <td>0</td>\n",
       "      <td>1</td>\n",
       "      <td>Friday</td>\n",
       "    </tr>\n",
       "    <tr>\n",
       "      <th>2</th>\n",
       "      <td>504310</td>\n",
       "      <td>52</td>\n",
       "      <td>1</td>\n",
       "      <td>10.6</td>\n",
       "      <td>1</td>\n",
       "      <td>2021-03-14</td>\n",
       "      <td>10.600</td>\n",
       "      <td>0</td>\n",
       "      <td>761</td>\n",
       "      <td>0</td>\n",
       "      <td>1</td>\n",
       "      <td>0</td>\n",
       "      <td>Sunday</td>\n",
       "    </tr>\n",
       "    <tr>\n",
       "      <th>3</th>\n",
       "      <td>504311</td>\n",
       "      <td>29</td>\n",
       "      <td>0</td>\n",
       "      <td>54.1</td>\n",
       "      <td>5</td>\n",
       "      <td>2021-10-25</td>\n",
       "      <td>43.280</td>\n",
       "      <td>1</td>\n",
       "      <td>906</td>\n",
       "      <td>0</td>\n",
       "      <td>1</td>\n",
       "      <td>0</td>\n",
       "      <td>Monday</td>\n",
       "    </tr>\n",
       "    <tr>\n",
       "      <th>4</th>\n",
       "      <td>504312</td>\n",
       "      <td>21</td>\n",
       "      <td>1</td>\n",
       "      <td>56.9</td>\n",
       "      <td>1</td>\n",
       "      <td>2021-09-14</td>\n",
       "      <td>56.900</td>\n",
       "      <td>1</td>\n",
       "      <td>605</td>\n",
       "      <td>0</td>\n",
       "      <td>1</td>\n",
       "      <td>0</td>\n",
       "      <td>Tuesday</td>\n",
       "    </tr>\n",
       "  </tbody>\n",
       "</table>\n",
       "</div>"
      ],
      "text/plain": [
       "   Customer_id  Age  Gender  Revenue_Total  N_Purchases Purchase_DATE  \\\n",
       "0       504308   53       0           45.3            2    2021-06-22   \n",
       "1       504309   18       1           36.2            3    2021-12-10   \n",
       "2       504310   52       1           10.6            1    2021-03-14   \n",
       "3       504311   29       0           54.1            5    2021-10-25   \n",
       "4       504312   21       1           56.9            1    2021-09-14   \n",
       "\n",
       "   Purchase_VALUE  Pay_Method  Time_Spent  Browser  Newsletter  Voucher  \\\n",
       "0          24.915           1         885        0           0        0   \n",
       "1           2.896           2         656        0           0        1   \n",
       "2          10.600           0         761        0           1        0   \n",
       "3          43.280           1         906        0           1        0   \n",
       "4          56.900           1         605        0           1        0   \n",
       "\n",
       "  day_of_week  \n",
       "0     Tuesday  \n",
       "1      Friday  \n",
       "2      Sunday  \n",
       "3      Monday  \n",
       "4     Tuesday  "
      ]
     },
     "execution_count": 21,
     "metadata": {},
     "output_type": "execute_result"
    }
   ],
   "source": [
    "df['day_of_week'] = df['Purchase_DATE'].dt.day_name()\n",
    "df.head(5)"
   ]
  },
  {
   "cell_type": "code",
   "execution_count": 22,
   "metadata": {},
   "outputs": [
    {
     "data": {
      "text/html": [
       "<div>\n",
       "<style scoped>\n",
       "    .dataframe tbody tr th:only-of-type {\n",
       "        vertical-align: middle;\n",
       "    }\n",
       "\n",
       "    .dataframe tbody tr th {\n",
       "        vertical-align: top;\n",
       "    }\n",
       "\n",
       "    .dataframe thead th {\n",
       "        text-align: right;\n",
       "    }\n",
       "</style>\n",
       "<table border=\"1\" class=\"dataframe\">\n",
       "  <thead>\n",
       "    <tr style=\"text-align: right;\">\n",
       "      <th></th>\n",
       "      <th>Customer_id</th>\n",
       "      <th>Age</th>\n",
       "      <th>Gender</th>\n",
       "      <th>Revenue_Total</th>\n",
       "      <th>N_Purchases</th>\n",
       "      <th>Purchase_DATE</th>\n",
       "      <th>Purchase_VALUE</th>\n",
       "      <th>Pay_Method</th>\n",
       "      <th>Time_Spent</th>\n",
       "      <th>Browser</th>\n",
       "      <th>Newsletter</th>\n",
       "      <th>Voucher</th>\n",
       "      <th>day_of_week</th>\n",
       "      <th>month</th>\n",
       "    </tr>\n",
       "  </thead>\n",
       "  <tbody>\n",
       "    <tr>\n",
       "      <th>0</th>\n",
       "      <td>504308</td>\n",
       "      <td>53</td>\n",
       "      <td>0</td>\n",
       "      <td>45.3</td>\n",
       "      <td>2</td>\n",
       "      <td>2021-06-22</td>\n",
       "      <td>24.915</td>\n",
       "      <td>1</td>\n",
       "      <td>885</td>\n",
       "      <td>0</td>\n",
       "      <td>0</td>\n",
       "      <td>0</td>\n",
       "      <td>Tuesday</td>\n",
       "      <td>June</td>\n",
       "    </tr>\n",
       "    <tr>\n",
       "      <th>1</th>\n",
       "      <td>504309</td>\n",
       "      <td>18</td>\n",
       "      <td>1</td>\n",
       "      <td>36.2</td>\n",
       "      <td>3</td>\n",
       "      <td>2021-12-10</td>\n",
       "      <td>2.896</td>\n",
       "      <td>2</td>\n",
       "      <td>656</td>\n",
       "      <td>0</td>\n",
       "      <td>0</td>\n",
       "      <td>1</td>\n",
       "      <td>Friday</td>\n",
       "      <td>December</td>\n",
       "    </tr>\n",
       "    <tr>\n",
       "      <th>2</th>\n",
       "      <td>504310</td>\n",
       "      <td>52</td>\n",
       "      <td>1</td>\n",
       "      <td>10.6</td>\n",
       "      <td>1</td>\n",
       "      <td>2021-03-14</td>\n",
       "      <td>10.600</td>\n",
       "      <td>0</td>\n",
       "      <td>761</td>\n",
       "      <td>0</td>\n",
       "      <td>1</td>\n",
       "      <td>0</td>\n",
       "      <td>Sunday</td>\n",
       "      <td>March</td>\n",
       "    </tr>\n",
       "    <tr>\n",
       "      <th>3</th>\n",
       "      <td>504311</td>\n",
       "      <td>29</td>\n",
       "      <td>0</td>\n",
       "      <td>54.1</td>\n",
       "      <td>5</td>\n",
       "      <td>2021-10-25</td>\n",
       "      <td>43.280</td>\n",
       "      <td>1</td>\n",
       "      <td>906</td>\n",
       "      <td>0</td>\n",
       "      <td>1</td>\n",
       "      <td>0</td>\n",
       "      <td>Monday</td>\n",
       "      <td>October</td>\n",
       "    </tr>\n",
       "    <tr>\n",
       "      <th>4</th>\n",
       "      <td>504312</td>\n",
       "      <td>21</td>\n",
       "      <td>1</td>\n",
       "      <td>56.9</td>\n",
       "      <td>1</td>\n",
       "      <td>2021-09-14</td>\n",
       "      <td>56.900</td>\n",
       "      <td>1</td>\n",
       "      <td>605</td>\n",
       "      <td>0</td>\n",
       "      <td>1</td>\n",
       "      <td>0</td>\n",
       "      <td>Tuesday</td>\n",
       "      <td>September</td>\n",
       "    </tr>\n",
       "  </tbody>\n",
       "</table>\n",
       "</div>"
      ],
      "text/plain": [
       "   Customer_id  Age  Gender  Revenue_Total  N_Purchases Purchase_DATE  \\\n",
       "0       504308   53       0           45.3            2    2021-06-22   \n",
       "1       504309   18       1           36.2            3    2021-12-10   \n",
       "2       504310   52       1           10.6            1    2021-03-14   \n",
       "3       504311   29       0           54.1            5    2021-10-25   \n",
       "4       504312   21       1           56.9            1    2021-09-14   \n",
       "\n",
       "   Purchase_VALUE  Pay_Method  Time_Spent  Browser  Newsletter  Voucher  \\\n",
       "0          24.915           1         885        0           0        0   \n",
       "1           2.896           2         656        0           0        1   \n",
       "2          10.600           0         761        0           1        0   \n",
       "3          43.280           1         906        0           1        0   \n",
       "4          56.900           1         605        0           1        0   \n",
       "\n",
       "  day_of_week      month  \n",
       "0     Tuesday       June  \n",
       "1      Friday   December  \n",
       "2      Sunday      March  \n",
       "3      Monday    October  \n",
       "4     Tuesday  September  "
      ]
     },
     "execution_count": 22,
     "metadata": {},
     "output_type": "execute_result"
    }
   ],
   "source": [
    "df['month'] = df['Purchase_DATE'].dt.month_name()\n",
    "df.head(5)"
   ]
  },
  {
   "cell_type": "code",
   "execution_count": 23,
   "metadata": {},
   "outputs": [
    {
     "data": {
      "text/plain": [
       "month\n",
       "January      5766\n",
       "December     5684\n",
       "October      5611\n",
       "August       5590\n",
       "May          5561\n",
       "September    5505\n",
       "March        5453\n",
       "April        5433\n",
       "July         5430\n",
       "June         5421\n",
       "November     5364\n",
       "February     4978\n",
       "Name: count, dtype: int64"
      ]
     },
     "execution_count": 23,
     "metadata": {},
     "output_type": "execute_result"
    }
   ],
   "source": [
    "df[\"month\"].value_counts() # keine Besonderheiten (Februar etwa 10% weniger)"
   ]
  },
  {
   "cell_type": "code",
   "execution_count": 24,
   "metadata": {},
   "outputs": [
    {
     "data": {
      "text/plain": [
       "day_of_week\n",
       "Thursday     9512\n",
       "Saturday     9449\n",
       "Friday       9420\n",
       "Wednesday    9420\n",
       "Sunday       9409\n",
       "Tuesday      9396\n",
       "Monday       9190\n",
       "Name: count, dtype: int64"
      ]
     },
     "execution_count": 24,
     "metadata": {},
     "output_type": "execute_result"
    }
   ],
   "source": [
    "df[\"day_of_week\"].value_counts() # keine Besonderheiten"
   ]
  },
  {
   "cell_type": "code",
   "execution_count": 25,
   "metadata": {},
   "outputs": [
    {
     "data": {
      "text/html": [
       "<div>\n",
       "<style scoped>\n",
       "    .dataframe tbody tr th:only-of-type {\n",
       "        vertical-align: middle;\n",
       "    }\n",
       "\n",
       "    .dataframe tbody tr th {\n",
       "        vertical-align: top;\n",
       "    }\n",
       "\n",
       "    .dataframe thead th {\n",
       "        text-align: right;\n",
       "    }\n",
       "</style>\n",
       "<table border=\"1\" class=\"dataframe\">\n",
       "  <thead>\n",
       "    <tr style=\"text-align: right;\">\n",
       "      <th></th>\n",
       "      <th>Customer_id</th>\n",
       "      <th>Age</th>\n",
       "      <th>Gender</th>\n",
       "      <th>Revenue_Total</th>\n",
       "      <th>N_Purchases</th>\n",
       "      <th>Purchase_DATE</th>\n",
       "      <th>Purchase_VALUE</th>\n",
       "      <th>Pay_Method</th>\n",
       "      <th>Time_Spent</th>\n",
       "      <th>Browser</th>\n",
       "      <th>Newsletter</th>\n",
       "      <th>Voucher</th>\n",
       "      <th>day_of_week</th>\n",
       "      <th>month</th>\n",
       "      <th>year</th>\n",
       "    </tr>\n",
       "  </thead>\n",
       "  <tbody>\n",
       "    <tr>\n",
       "      <th>0</th>\n",
       "      <td>504308</td>\n",
       "      <td>53</td>\n",
       "      <td>0</td>\n",
       "      <td>45.3</td>\n",
       "      <td>2</td>\n",
       "      <td>2021-06-22</td>\n",
       "      <td>24.915</td>\n",
       "      <td>1</td>\n",
       "      <td>885</td>\n",
       "      <td>0</td>\n",
       "      <td>0</td>\n",
       "      <td>0</td>\n",
       "      <td>Tuesday</td>\n",
       "      <td>June</td>\n",
       "      <td>2021</td>\n",
       "    </tr>\n",
       "    <tr>\n",
       "      <th>1</th>\n",
       "      <td>504309</td>\n",
       "      <td>18</td>\n",
       "      <td>1</td>\n",
       "      <td>36.2</td>\n",
       "      <td>3</td>\n",
       "      <td>2021-12-10</td>\n",
       "      <td>2.896</td>\n",
       "      <td>2</td>\n",
       "      <td>656</td>\n",
       "      <td>0</td>\n",
       "      <td>0</td>\n",
       "      <td>1</td>\n",
       "      <td>Friday</td>\n",
       "      <td>December</td>\n",
       "      <td>2021</td>\n",
       "    </tr>\n",
       "    <tr>\n",
       "      <th>2</th>\n",
       "      <td>504310</td>\n",
       "      <td>52</td>\n",
       "      <td>1</td>\n",
       "      <td>10.6</td>\n",
       "      <td>1</td>\n",
       "      <td>2021-03-14</td>\n",
       "      <td>10.600</td>\n",
       "      <td>0</td>\n",
       "      <td>761</td>\n",
       "      <td>0</td>\n",
       "      <td>1</td>\n",
       "      <td>0</td>\n",
       "      <td>Sunday</td>\n",
       "      <td>March</td>\n",
       "      <td>2021</td>\n",
       "    </tr>\n",
       "    <tr>\n",
       "      <th>3</th>\n",
       "      <td>504311</td>\n",
       "      <td>29</td>\n",
       "      <td>0</td>\n",
       "      <td>54.1</td>\n",
       "      <td>5</td>\n",
       "      <td>2021-10-25</td>\n",
       "      <td>43.280</td>\n",
       "      <td>1</td>\n",
       "      <td>906</td>\n",
       "      <td>0</td>\n",
       "      <td>1</td>\n",
       "      <td>0</td>\n",
       "      <td>Monday</td>\n",
       "      <td>October</td>\n",
       "      <td>2021</td>\n",
       "    </tr>\n",
       "    <tr>\n",
       "      <th>4</th>\n",
       "      <td>504312</td>\n",
       "      <td>21</td>\n",
       "      <td>1</td>\n",
       "      <td>56.9</td>\n",
       "      <td>1</td>\n",
       "      <td>2021-09-14</td>\n",
       "      <td>56.900</td>\n",
       "      <td>1</td>\n",
       "      <td>605</td>\n",
       "      <td>0</td>\n",
       "      <td>1</td>\n",
       "      <td>0</td>\n",
       "      <td>Tuesday</td>\n",
       "      <td>September</td>\n",
       "      <td>2021</td>\n",
       "    </tr>\n",
       "  </tbody>\n",
       "</table>\n",
       "</div>"
      ],
      "text/plain": [
       "   Customer_id  Age  Gender  Revenue_Total  N_Purchases Purchase_DATE  \\\n",
       "0       504308   53       0           45.3            2    2021-06-22   \n",
       "1       504309   18       1           36.2            3    2021-12-10   \n",
       "2       504310   52       1           10.6            1    2021-03-14   \n",
       "3       504311   29       0           54.1            5    2021-10-25   \n",
       "4       504312   21       1           56.9            1    2021-09-14   \n",
       "\n",
       "   Purchase_VALUE  Pay_Method  Time_Spent  Browser  Newsletter  Voucher  \\\n",
       "0          24.915           1         885        0           0        0   \n",
       "1           2.896           2         656        0           0        1   \n",
       "2          10.600           0         761        0           1        0   \n",
       "3          43.280           1         906        0           1        0   \n",
       "4          56.900           1         605        0           1        0   \n",
       "\n",
       "  day_of_week      month  year  \n",
       "0     Tuesday       June  2021  \n",
       "1      Friday   December  2021  \n",
       "2      Sunday      March  2021  \n",
       "3      Monday    October  2021  \n",
       "4     Tuesday  September  2021  "
      ]
     },
     "execution_count": 25,
     "metadata": {},
     "output_type": "execute_result"
    }
   ],
   "source": [
    "df['year'] = df['Purchase_DATE'].dt.year\n",
    "df.head(5)"
   ]
  },
  {
   "cell_type": "code",
   "execution_count": 26,
   "metadata": {},
   "outputs": [
    {
     "data": {
      "text/plain": [
       "year\n",
       "2021    65619\n",
       "2022      177\n",
       "Name: count, dtype: int64"
      ]
     },
     "execution_count": 26,
     "metadata": {},
     "output_type": "execute_result"
    }
   ],
   "source": [
    "df[\"year\"].value_counts()"
   ]
  },
  {
   "cell_type": "code",
   "execution_count": 27,
   "metadata": {},
   "outputs": [
    {
     "data": {
      "text/html": [
       "<div>\n",
       "<style scoped>\n",
       "    .dataframe tbody tr th:only-of-type {\n",
       "        vertical-align: middle;\n",
       "    }\n",
       "\n",
       "    .dataframe tbody tr th {\n",
       "        vertical-align: top;\n",
       "    }\n",
       "\n",
       "    .dataframe thead th {\n",
       "        text-align: right;\n",
       "    }\n",
       "</style>\n",
       "<table border=\"1\" class=\"dataframe\">\n",
       "  <thead>\n",
       "    <tr style=\"text-align: right;\">\n",
       "      <th></th>\n",
       "      <th>Customer_id</th>\n",
       "      <th>Age</th>\n",
       "      <th>Gender</th>\n",
       "      <th>Revenue_Total</th>\n",
       "      <th>N_Purchases</th>\n",
       "      <th>Purchase_DATE</th>\n",
       "      <th>Purchase_VALUE</th>\n",
       "      <th>Pay_Method</th>\n",
       "      <th>Time_Spent</th>\n",
       "      <th>Browser</th>\n",
       "      <th>Newsletter</th>\n",
       "      <th>Voucher</th>\n",
       "      <th>day_of_week</th>\n",
       "      <th>month</th>\n",
       "      <th>year</th>\n",
       "    </tr>\n",
       "  </thead>\n",
       "  <tbody>\n",
       "    <tr>\n",
       "      <th>211</th>\n",
       "      <td>504519</td>\n",
       "      <td>24</td>\n",
       "      <td>1</td>\n",
       "      <td>27.9</td>\n",
       "      <td>3</td>\n",
       "      <td>2022-01-01</td>\n",
       "      <td>26.784</td>\n",
       "      <td>3</td>\n",
       "      <td>332</td>\n",
       "      <td>2</td>\n",
       "      <td>0</td>\n",
       "      <td>0</td>\n",
       "      <td>Saturday</td>\n",
       "      <td>January</td>\n",
       "      <td>2022</td>\n",
       "    </tr>\n",
       "    <tr>\n",
       "      <th>1293</th>\n",
       "      <td>505601</td>\n",
       "      <td>33</td>\n",
       "      <td>1</td>\n",
       "      <td>13.0</td>\n",
       "      <td>4</td>\n",
       "      <td>2022-01-01</td>\n",
       "      <td>3.900</td>\n",
       "      <td>1</td>\n",
       "      <td>353</td>\n",
       "      <td>0</td>\n",
       "      <td>0</td>\n",
       "      <td>1</td>\n",
       "      <td>Saturday</td>\n",
       "      <td>January</td>\n",
       "      <td>2022</td>\n",
       "    </tr>\n",
       "    <tr>\n",
       "      <th>1626</th>\n",
       "      <td>505934</td>\n",
       "      <td>59</td>\n",
       "      <td>0</td>\n",
       "      <td>35.1</td>\n",
       "      <td>5</td>\n",
       "      <td>2022-01-01</td>\n",
       "      <td>1.404</td>\n",
       "      <td>1</td>\n",
       "      <td>201</td>\n",
       "      <td>0</td>\n",
       "      <td>1</td>\n",
       "      <td>0</td>\n",
       "      <td>Saturday</td>\n",
       "      <td>January</td>\n",
       "      <td>2022</td>\n",
       "    </tr>\n",
       "    <tr>\n",
       "      <th>1979</th>\n",
       "      <td>506287</td>\n",
       "      <td>43</td>\n",
       "      <td>1</td>\n",
       "      <td>23.0</td>\n",
       "      <td>4</td>\n",
       "      <td>2022-01-01</td>\n",
       "      <td>10.580</td>\n",
       "      <td>1</td>\n",
       "      <td>394</td>\n",
       "      <td>1</td>\n",
       "      <td>0</td>\n",
       "      <td>0</td>\n",
       "      <td>Saturday</td>\n",
       "      <td>January</td>\n",
       "      <td>2022</td>\n",
       "    </tr>\n",
       "    <tr>\n",
       "      <th>2302</th>\n",
       "      <td>506610</td>\n",
       "      <td>17</td>\n",
       "      <td>1</td>\n",
       "      <td>35.5</td>\n",
       "      <td>6</td>\n",
       "      <td>2022-01-01</td>\n",
       "      <td>20.590</td>\n",
       "      <td>2</td>\n",
       "      <td>808</td>\n",
       "      <td>0</td>\n",
       "      <td>0</td>\n",
       "      <td>0</td>\n",
       "      <td>Saturday</td>\n",
       "      <td>January</td>\n",
       "      <td>2022</td>\n",
       "    </tr>\n",
       "  </tbody>\n",
       "</table>\n",
       "</div>"
      ],
      "text/plain": [
       "      Customer_id  Age  Gender  Revenue_Total  N_Purchases Purchase_DATE  \\\n",
       "211        504519   24       1           27.9            3    2022-01-01   \n",
       "1293       505601   33       1           13.0            4    2022-01-01   \n",
       "1626       505934   59       0           35.1            5    2022-01-01   \n",
       "1979       506287   43       1           23.0            4    2022-01-01   \n",
       "2302       506610   17       1           35.5            6    2022-01-01   \n",
       "\n",
       "      Purchase_VALUE  Pay_Method  Time_Spent  Browser  Newsletter  Voucher  \\\n",
       "211           26.784           3         332        2           0        0   \n",
       "1293           3.900           1         353        0           0        1   \n",
       "1626           1.404           1         201        0           1        0   \n",
       "1979          10.580           1         394        1           0        0   \n",
       "2302          20.590           2         808        0           0        0   \n",
       "\n",
       "     day_of_week    month  year  \n",
       "211     Saturday  January  2022  \n",
       "1293    Saturday  January  2022  \n",
       "1626    Saturday  January  2022  \n",
       "1979    Saturday  January  2022  \n",
       "2302    Saturday  January  2022  "
      ]
     },
     "execution_count": 27,
     "metadata": {},
     "output_type": "execute_result"
    }
   ],
   "source": [
    "df.query(\"year == 2022\").head(5)"
   ]
  },
  {
   "cell_type": "markdown",
   "metadata": {},
   "source": [
    "**Altersgruppen erstellen**"
   ]
  },
  {
   "cell_type": "code",
   "execution_count": 28,
   "metadata": {},
   "outputs": [],
   "source": [
    "df['Age_Groups'] = ''\n",
    "\n",
    "for row in df.iterrows():\n",
    "    age = row[1]['Age']\n",
    "    if age <= 15:\n",
    "        df.at[row[0], 'Age_Groups'] = 'Young'\n",
    "    elif 15 < age <= 30:\n",
    "        df.at[row[0], 'Age_Groups'] = 'Middle-Aged'\n",
    "    elif 30 < age <= 45:\n",
    "        df.at[row[0], 'Age_Groups'] = 'Old'\n",
    "    else:\n",
    "        df.at[row[0], 'Age_Groups'] = 'Senior'\n",
    "\n"
   ]
  },
  {
   "cell_type": "code",
   "execution_count": 29,
   "metadata": {},
   "outputs": [
    {
     "data": {
      "text/plain": [
       "Age_Groups\n",
       "Senior         24887\n",
       "Old            20521\n",
       "Middle-Aged    20388\n",
       "Name: count, dtype: int64"
      ]
     },
     "execution_count": 29,
     "metadata": {},
     "output_type": "execute_result"
    }
   ],
   "source": [
    "df[\"Age_Groups\"].value_counts()"
   ]
  },
  {
   "cell_type": "code",
   "execution_count": 30,
   "metadata": {},
   "outputs": [
    {
     "data": {
      "text/plain": [
       "Age_Groups\n",
       "Middle-Aged    566305.9\n",
       "Old            569148.3\n",
       "Senior         689262.0\n",
       "Name: Revenue_Total, dtype: float64"
      ]
     },
     "execution_count": 30,
     "metadata": {},
     "output_type": "execute_result"
    }
   ],
   "source": [
    "df.groupby(\"Age_Groups\")[\"Revenue_Total\"].sum()"
   ]
  },
  {
   "cell_type": "code",
   "execution_count": 31,
   "metadata": {},
   "outputs": [
    {
     "data": {
      "image/png": "[encoded data removed]",
      "text/plain": [
       "<Figure size 640x480 with 1 Axes>"
      ]
     },
     "metadata": {},
     "output_type": "display_data"
    }
   ],
   "source": [
    "revenue_by_age = df.groupby(\"Age_Groups\")[\"Revenue_Total\"].sum()\n",
    "\n",
    "revenue_by_age.plot(kind='bar')\n",
    "plt.title('Umsatz pro Altersgruppe')\n",
    "plt.xlabel('Alter')\n",
    "plt.ylabel('Umsatz')\n",
    "plt.show()"
   ]
  },
  {
   "cell_type": "code",
   "execution_count": 32,
   "metadata": {},
   "outputs": [
    {
     "data": {
      "image/png": "[encoded data removed]",
      "text/plain": [
       "<Figure size 640x480 with 1 Axes>"
      ]
     },
     "metadata": {},
     "output_type": "display_data"
    }
   ],
   "source": [
    "age_groups = df['Age_Groups'].value_counts()\n",
    "plt.pie(age_groups, labels=[\"Senior\",\"Old\",\"Middle_Aged\"] ,autopct='%1.1f%%', startangle=90)\n",
    "plt.title('Age Groups')\n",
    "plt.show()"
   ]
  },
  {
   "cell_type": "code",
   "execution_count": 33,
   "metadata": {},
   "outputs": [
    {
     "data": {
      "text/plain": [
       "Age_Groups\n",
       "Middle-Aged    599.529527\n",
       "Old            598.981872\n",
       "Senior         598.384458\n",
       "Name: Time_Spent, dtype: float64"
      ]
     },
     "execution_count": 33,
     "metadata": {},
     "output_type": "execute_result"
    }
   ],
   "source": [
    "df.groupby(\"Age_Groups\")[\"Time_Spent\"].mean()"
   ]
  },
  {
   "cell_type": "markdown",
   "metadata": {},
   "source": [
    "- Nehmen sich Voucher mehr Zeit etc.\n",
    "- Gibt es besondere Monate.\n",
    "- Hat die Payment Method Einfluss auf Dinge.\n",
    "- Hat der Newsletter Einfluss auf Dinge."
   ]
  },
  {
   "cell_type": "code",
   "execution_count": 34,
   "metadata": {},
   "outputs": [
    {
     "data": {
      "text/plain": [
       "Newsletter\n",
       "0    598.484488\n",
       "1    601.405253\n",
       "Name: Time_Spent, dtype: float64"
      ]
     },
     "execution_count": 34,
     "metadata": {},
     "output_type": "execute_result"
    }
   ],
   "source": [
    "df.groupby(\"Newsletter\")[\"Time_Spent\"].mean()"
   ]
  },
  {
   "cell_type": "code",
   "execution_count": 35,
   "metadata": {},
   "outputs": [
    {
     "data": {
      "text/plain": [
       "Newsletter  Voucher\n",
       "0           0          41923\n",
       "            1          13936\n",
       "1           0           7407\n",
       "            1           2530\n",
       "Name: count, dtype: int64"
      ]
     },
     "execution_count": 35,
     "metadata": {},
     "output_type": "execute_result"
    }
   ],
   "source": [
    "df.groupby(\"Newsletter\")[\"Voucher\"].value_counts() # etwa 1 zu 3 , also keine Auswirkung"
   ]
  },
  {
   "cell_type": "code",
   "execution_count": 36,
   "metadata": {},
   "outputs": [
    {
     "data": {
      "text/plain": [
       "Pay_Method  Voucher\n",
       "0           0          14236\n",
       "            1           4839\n",
       "1           0          14807\n",
       "            1           4947\n",
       "2           0          10899\n",
       "            1           3652\n",
       "3           0           9388\n",
       "            1           3028\n",
       "Name: count, dtype: int64"
      ]
     },
     "execution_count": 36,
     "metadata": {},
     "output_type": "execute_result"
    }
   ],
   "source": [
    "df.groupby(\"Pay_Method\")[\"Voucher\"].value_counts() # Pay_Method hat keine Auswirkung"
   ]
  },
  {
   "cell_type": "code",
   "execution_count": 37,
   "metadata": {},
   "outputs": [
    {
     "data": {
      "text/plain": [
       "Age_Groups   Pay_Method\n",
       "Middle-Aged  1             6101\n",
       "             0             5932\n",
       "             2             4479\n",
       "             3             3876\n",
       "Old          1             6232\n",
       "             0             5938\n",
       "             2             4464\n",
       "             3             3887\n",
       "Senior       1             7421\n",
       "             0             7205\n",
       "             2             5608\n",
       "             3             4653\n",
       "Name: count, dtype: int64"
      ]
     },
     "execution_count": 37,
     "metadata": {},
     "output_type": "execute_result"
    }
   ],
   "source": [
    "df.groupby(\"Age_Groups\")[\"Pay_Method\"].value_counts()"
   ]
  },
  {
   "cell_type": "code",
   "execution_count": 38,
   "metadata": {},
   "outputs": [
    {
     "data": {
      "image/png": "[encoded data removed]",
      "text/plain": [
       "<Figure size 640x480 with 1 Axes>"
      ]
     },
     "metadata": {},
     "output_type": "display_data"
    }
   ],
   "source": [
    "pay_method_by_age = df.groupby(\"Age_Groups\")[\"Pay_Method\"].value_counts()\n",
    "pay_method_by_age.plot(kind='bar')\n",
    "plt.title('Pay Method per Age Group')\n",
    "plt.xlabel('Pay Method / Age Group')\n",
    "plt.ylabel('Sum of Payments')\n",
    "plt.show()"
   ]
  }
 ],
 "metadata": {
  "kernelspec": {
   "display_name": "Python 3",
   "language": "python",
   "name": "python3"
  },
  "language_info": {
   "codemirror_mode": {
    "name": "ipython",
    "version": 3
   },
   "file_extension": ".py",
   "mimetype": "text/x-python",
   "name": "python",
   "nbconvert_exporter": "python",
   "pygments_lexer": "ipython3",
   "version": "3.11.6"
  }
 },
 "nbformat": 4,
 "nbformat_minor": 2
}
